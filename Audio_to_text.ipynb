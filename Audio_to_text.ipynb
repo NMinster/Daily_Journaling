{
 "cells": [
  {
   "cell_type": "code",
   "execution_count": 12,
   "metadata": {},
   "outputs": [
    {
     "name": "stdout",
     "output_type": "stream",
     "text": [
      "Transcription saved to C:\\Users\\NM\\2023-03-21.txt\n"
     ]
    }
   ],
   "source": [
    "from pydub import AudioSegment\n",
    "import speech_recognition as sr\n",
    "import tempfile\n",
    "import os\n",
    "from datetime import datetime\n",
    "\n",
    "# define the input directory path\n",
    "input_dir_path = r\"D:\\RECORDER\\FOLDER_A\"\n",
    "\n",
    "# create a recognizer instance\n",
    "recognizer = sr.Recognizer()\n",
    "\n",
    "for root, dirs, files in os.walk(input_dir_path):\n",
    "    for file in files:\n",
    "        # check if the file is an audio file\n",
    "        if file.lower().endswith(('.mp3', '.wav')):\n",
    "            # define the audio file path\n",
    "            audio_file_path = os.path.join(root, file)\n",
    "\n",
    "            # read the audio file using pydub\n",
    "            audio_data = AudioSegment.from_file(audio_file_path, format=\"mp3\")\n",
    "\n",
    "            # convert the audio to PCM WAV format\n",
    "            pcm_audio_data = audio_data.set_frame_rate(16000).set_sample_width(2).set_channels(1)\n",
    "\n",
    "            # transcribe the audio to text using the recognizer\n",
    "            with tempfile.NamedTemporaryFile(delete=False) as f:\n",
    "                temp_file = f.name\n",
    "                pcm_audio_data.export(temp_file, format='wav')\n",
    "                with sr.AudioFile(temp_file) as source:\n",
    "                    audio_text = recognizer.record(source)\n",
    "\n",
    "            # get the transcribed text\n",
    "            text = recognizer.recognize_google(audio_text)\n",
    "\n",
    "            # get the creation time of the input audio file\n",
    "            file_creation_time = os.path.getctime(audio_file_path)\n",
    "            creation_date = datetime.fromtimestamp(file_creation_time).strftime('%Y-%m-%d')\n",
    "\n",
    "            # define the output file path\n",
    "            output_file_name = \"{}.txt\".format(creation_date)\n",
    "            output_file_path = os.path.join(os.getcwd(), output_file_name)\n",
    "\n",
    "\n",
    "            # write the transcribed text to a text file\n",
    "            with open(output_file_path, \"w\") as f:\n",
    "                f.write(text)\n",
    "\n",
    "            # print a message to indicate the file has been saved\n",
    "            print(\"Transcription saved to {}\".format(output_file_path))\n"
   ]
  },
  {
   "cell_type": "code",
   "execution_count": null,
   "metadata": {},
   "outputs": [],
   "source": []
  }
 ],
 "metadata": {
  "kernelspec": {
   "display_name": "Python 3",
   "language": "python",
   "name": "python3"
  },
  "language_info": {
   "codemirror_mode": {
    "name": "ipython",
    "version": 3
   },
   "file_extension": ".py",
   "mimetype": "text/x-python",
   "name": "python",
   "nbconvert_exporter": "python",
   "pygments_lexer": "ipython3",
   "version": "3.8.3"
  }
 },
 "nbformat": 4,
 "nbformat_minor": 4
}
