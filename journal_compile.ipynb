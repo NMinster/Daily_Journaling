{
 "cells": [
  {
   "cell_type": "code",
   "execution_count": 1,
   "metadata": {},
   "outputs": [
    {
     "name": "stdout",
     "output_type": "stream",
     "text": [
      "Journal saved to journal.txt\n"
     ]
    }
   ],
   "source": [
    "import os\n",
    "\n",
    "# Set the directory containing the text files\n",
    "text_files_dir = r\"C:\\Users\\NM\\journal\"\n",
    "\n",
    "# Create a dictionary to store the text content of each file, keyed by the file date\n",
    "text_files = {}\n",
    "\n",
    "# Loop through each file in the directory\n",
    "for filename in os.listdir(text_files_dir):\n",
    "    # Check if the file is a text file (ends in \".txt\")\n",
    "    if filename.endswith(\".txt\"):\n",
    "        # Extract the date from the filename\n",
    "        file_date = filename.split(\".\")[0]\n",
    "        \n",
    "        # Open the file and read the contents\n",
    "        with open(os.path.join(text_files_dir, filename), \"r\") as f:\n",
    "            text_content = f.read()\n",
    "            \n",
    "        # Store the text content in the dictionary, keyed by the file date\n",
    "        text_files[file_date] = text_content\n",
    "\n",
    "# Sort the dictionary by date\n",
    "sorted_text_files = dict(sorted(text_files.items()))\n",
    "\n",
    "# Create a string to hold the journal content\n",
    "journal_content = \"\"\n",
    "\n",
    "# Loop through each entry in the sorted dictionary and append the text content to the journal\n",
    "for date, text in sorted_text_files.items():\n",
    "    journal_content += \"{}\\n{}\\n\\n\".format(date, text)\n",
    "\n",
    "# Write the journal content to a file\n",
    "with open(\"journal.txt\", \"w\") as f:\n",
    "    f.write(journal_content)\n",
    "    \n",
    "# Print a message to indicate the journal has been saved\n",
    "print(\"Journal saved to journal.txt\")"
   ]
  },
  {
   "cell_type": "code",
   "execution_count": null,
   "metadata": {},
   "outputs": [],
   "source": []
  }
 ],
 "metadata": {
  "kernelspec": {
   "display_name": "Python 3",
   "language": "python",
   "name": "python3"
  },
  "language_info": {
   "codemirror_mode": {
    "name": "ipython",
    "version": 3
   },
   "file_extension": ".py",
   "mimetype": "text/x-python",
   "name": "python",
   "nbconvert_exporter": "python",
   "pygments_lexer": "ipython3",
   "version": "3.8.3"
  }
 },
 "nbformat": 4,
 "nbformat_minor": 4
}
